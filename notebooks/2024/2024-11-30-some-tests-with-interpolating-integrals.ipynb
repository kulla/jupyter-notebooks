{
 "cells": [
  {
   "cell_type": "markdown",
   "id": "a05d48b8-9c4c-46ba-a31d-6c9696ff2471",
   "metadata": {},
   "source": [
    "# Some tests with interpolating integrals\n",
    "\n",
    "Copyright 2024 Stephan Kulla (\"Kulla\")\n",
    "\n",
    "Licensed under the Apache License, Version 2.0 (the \"Apache License\") and Creative Commons Attribution 4.0 International (the \"CC-BY License\"). You may choose either of these licenses to govern your use of this project.\n",
    "\n",
    "You may obtain a copy of the Apache License at:\n",
    "    http://www.apache.org/licenses/LICENSE-2.0\n",
    "\n",
    "You may obtain a copy of the CC-BY License at:\n",
    "    https://creativecommons.org/licenses/by/4.0/\n",
    "\n",
    "Unless required by applicable law or agreed to in writing, software and content distributed under the Apache License is distributed on an \"AS IS\" BASIS, WITHOUT WARRANTIES OR CONDITIONS OF ANY KIND, either express or implied. See the Apache License for the specific language governing permissions and limitations under the License.\n",
    "\n",
    "Under the CC-BY License, you are free to share and adapt the material provided you give appropriate credit, provide a link to the license, and indicate if changes were made. See the CC-BY License for full details.\n",
    "\n",
    "Third-Party Components and Licenses:\n",
    "This product also includes third-party components which are distributed under their respective licenses. Please refer to the NOTICE file for details."
   ]
  },
  {
   "cell_type": "markdown",
   "id": "87465842-f7b0-4d85-b232-26a91f9e0a6d",
   "metadata": {},
   "source": [
    "## Utility functions and imports"
   ]
  },
  {
   "cell_type": "code",
   "execution_count": 1,
   "id": "a406b2c0-b7c2-4055-b929-34c359f7b869",
   "metadata": {},
   "outputs": [],
   "source": [
    "%load_ext jupyter_ai_magics"
   ]
  },
  {
   "cell_type": "code",
   "execution_count": 5,
   "id": "df9ccd04-9580-42d7-925e-d0f277b4aec9",
   "metadata": {},
   "outputs": [],
   "source": [
    "import sympy as sp\n",
    "\n",
    "x = sp.symbols(\"x\")\n",
    "f = sp.sin(x)"
   ]
  },
  {
   "cell_type": "markdown",
   "id": "283a8187-2bee-486b-9d65-4b6f428f088a",
   "metadata": {},
   "source": [
    "## Check whether $\\int_a^b\\dots\\int f(x) \\mathrm dx = \\int_a^b (b-x)^n \\mathrm dx$"
   ]
  },
  {
   "cell_type": "markdown",
   "id": "c45e94ed-935c-4151-88b0-23ac858d9b7f",
   "metadata": {},
   "source": [
    "Compute antiderivative via $\\int_a^x f(y) \\mathrm dy$:"
   ]
  },
  {
   "cell_type": "code",
   "execution_count": 10,
   "id": "28c0fb95-e54e-4fa3-b69e-7e8e4d0d4cef",
   "metadata": {},
   "outputs": [
    {
     "name": "stdout",
     "output_type": "stream",
     "text": [
      "Antiderivative of sin(x):\n"
     ]
    },
    {
     "data": {
      "text/latex": [
       "$\\displaystyle - \\cos{\\left(x \\right)} + \\cos{\\left(1 \\right)}$"
      ],
      "text/plain": [
       "-cos(x) + cos(1)"
      ]
     },
     "execution_count": 10,
     "metadata": {},
     "output_type": "execute_result"
    }
   ],
   "source": [
    "def antiderivative(f, a):\n",
    "    y = sp.symbols(\"y\")\n",
    "    return sp.integrate(f.subs(x, y), (y, a, x))\n",
    "\n",
    "print(\"Antiderivative of sin(x):\")\n",
    "\n",
    "antiderivative(sp.sin(x), -1)"
   ]
  },
  {
   "cell_type": "code",
   "execution_count": 12,
   "id": "0d3fc943-3f83-47c8-9880-668f12e32ffa",
   "metadata": {},
   "outputs": [
    {
     "name": "stdout",
     "output_type": "stream",
     "text": [
      "True\n",
      "True\n"
     ]
    }
   ],
   "source": [
    "print(antiderivative(sp.sin(x), -1) == -sp.cos(x)+sp.cos(-1))\n",
    "print(antiderivative(sp.exp(x), 4) == sp.exp(x)-sp.exp(4))"
   ]
  },
  {
   "cell_type": "markdown",
   "id": "c0aea70f-b45b-4d00-a089-93731f740fa8",
   "metadata": {},
   "source": [
    "n-th time derivative $\\int\\dots\\int f(y) \\mathrm dy$:"
   ]
  },
  {
   "cell_type": "code",
   "execution_count": 63,
   "id": "b9e7e856-73fb-4329-977a-128718f81ab1",
   "metadata": {},
   "outputs": [
    {
     "name": "stdout",
     "output_type": "stream",
     "text": [
      "5. antiderivative of sin(x):\n",
      "x**2*cos(1)/2 - x*sin(1) + x*cos(1) + cos(x) - sin(1) - cos(1)/2\n",
      "Tests:\n",
      "True\n",
      "True\n",
      "True\n",
      "Test via 1:\n",
      "True\n",
      "True\n",
      "True\n",
      "True\n"
     ]
    }
   ],
   "source": [
    "def nth_antiderivative(n, f, a):\n",
    "    for i in range(n+1):\n",
    "        f = antiderivative(f, a)\n",
    "\n",
    "    return f\n",
    "\n",
    "print(\"5. antiderivative of sin(x):\")\n",
    "print(nth_antiderivative(2, sp.sin(x), -1))\n",
    "\n",
    "print(\"Tests:\")\n",
    "print(nth_antiderivative(0, sp.sin(x), -1) == antiderivative(sp.sin(x), -1))\n",
    "print(nth_antiderivative(1, sp.sin(x), -1) == antiderivative(antiderivative(sp.sin(x), -1), -1))\n",
    "print(nth_antiderivative(2, sp.sin(x), -1) == antiderivative(antiderivative(antiderivative(sp.sin(x), -1), -1), -1))\n",
    "\n",
    "print(\"Test via 1:\")\n",
    "a = sp.symbols(\"a\")\n",
    "print(nth_antiderivative(0, sp.Integer(1), a) == x-a)\n",
    "print(nth_antiderivative(1, sp.Integer(1), a) == sp.expand((x-a)**2/2))\n",
    "print(nth_antiderivative(2, sp.Integer(1), a) == sp.expand((x-a)**3/6))\n",
    "print(nth_antiderivative(3, sp.Integer(1), a) == sp.expand((x-a)**4/6/4))"
   ]
  },
  {
   "cell_type": "code",
   "execution_count": 29,
   "id": "d6de9899-d6ec-43fb-9b88-35c038b35014",
   "metadata": {},
   "outputs": [
    {
     "name": "stdout",
     "output_type": "stream",
     "text": [
      "True\n"
     ]
    }
   ],
   "source": [
    "def nth_definite_antiderivative(n, f, a, b):\n",
    "    return nth_antiderivative(n, f, a).subs(x, b)\n",
    "\n",
    "print(nth_definite_antiderivative(0, sp.sin(x), -1, 1) == -sp.cos(1)+sp.cos(-1))"
   ]
  },
  {
   "cell_type": "code",
   "execution_count": 30,
   "id": "ee03c70e-3031-449b-a99a-bc37697cec4b",
   "metadata": {},
   "outputs": [
    {
     "name": "stdout",
     "output_type": "stream",
     "text": [
      "Expression  sin(x)\n",
      "n=0: Is 0 = 0? True\n",
      "n=1: Is -2*sin(1) + 2*cos(1) = -2*sin(1) + 2*cos(1)? True\n",
      "n=2: Is -2*sin(1) + 2*cos(1) = -4*sin(1) + 4*cos(1)? False\n",
      "n=3: Is -2*cos(1)/3 = -4*cos(1)? False\n",
      "n=4: Is -4*cos(1)/3 + 2*sin(1)/3 = -32*cos(1) + 16*sin(1)? False\n",
      "Expression  exp(x)\n",
      "n=0: Is E - exp(-1) = E - exp(-1)? True\n",
      "n=1: Is E - 3*exp(-1) = E - 3*exp(-1)? True\n",
      "n=2: Is E - 5*exp(-1) = -10*exp(-1) + 2*E? False\n",
      "n=3: Is E - 19*exp(-1)/3 = -38*exp(-1) + 6*E? False\n",
      "n=4: Is E - 7*exp(-1) = -168*exp(-1) + 24*E? False\n"
     ]
    }
   ],
   "source": [
    "for expr in [sp.sin(x), sp.exp(x)]:\n",
    "    print(\"Expression \", expr)\n",
    "\n",
    "    for n in range(5):\n",
    "        left = nth_definite_antiderivative(n, expr, -1, 1)\n",
    "        right = sp.integrate((1-x)**n * expr, (x, -1, 1))\n",
    "        print(f\"n={n}: Is {left} = {right}? {left == right}\")"
   ]
  },
  {
   "cell_type": "markdown",
   "id": "dcbc7e52-3c0b-406d-a22f-af05acf388ee",
   "metadata": {},
   "source": [
    "Neue Rechnung: $\\int_a^x \\int_a^y \\int_a^z f(s) \\mathrm ds = \\int_a^x \\frac 12 (x-y)^2 f(y) \\mathrm dy$"
   ]
  },
  {
   "cell_type": "code",
   "execution_count": 33,
   "id": "d48783b9-b981-4c1d-91d6-20826f7721df",
   "metadata": {},
   "outputs": [
    {
     "name": "stdout",
     "output_type": "stream",
     "text": [
      "True\n",
      "True\n"
     ]
    }
   ],
   "source": [
    "for f in [sp.sin(x), sp.exp(x)]:\n",
    "    print(nth_definite_antiderivative(2, f, -1, 1) == sp.integrate(f / 2 * (1-x)**2,(x, -1, 1)))"
   ]
  },
  {
   "cell_type": "code",
   "execution_count": 44,
   "id": "2fb12a17-c2db-49c6-a403-8e06c5767466",
   "metadata": {},
   "outputs": [
    {
     "data": {
      "text/latex": [
       "$\\displaystyle \\frac{x^{3}}{6} - \\frac{x^{2} z}{2} + \\frac{x z^{2}}{2} - \\frac{z^{3}}{6}$"
      ],
      "text/plain": [
       "x**3/6 - x**2*z/2 + x*z**2/2 - z**3/6"
      ]
     },
     "execution_count": 44,
     "metadata": {},
     "output_type": "execute_result"
    }
   ],
   "source": [
    "x,y,z = sp.symbols(\"x y z\")\n",
    "sp.simplify(sp.integrate((y-z)**2/2, (y, z, x)))"
   ]
  },
  {
   "cell_type": "code",
   "execution_count": 43,
   "id": "0731da53-4c99-4f23-b327-5cac4964b632",
   "metadata": {},
   "outputs": [
    {
     "data": {
      "text/latex": [
       "$\\displaystyle \\frac{x^{3}}{6} - \\frac{x^{2} z}{2} + \\frac{x z^{2}}{2} - \\frac{z^{3}}{6}$"
      ],
      "text/plain": [
       "x**3/6 - x**2*z/2 + x*z**2/2 - z**3/6"
      ]
     },
     "execution_count": 43,
     "metadata": {},
     "output_type": "execute_result"
    }
   ],
   "source": [
    "sp.expand((x-z)**3/6)"
   ]
  },
  {
   "cell_type": "markdown",
   "id": "fdb5cd0e-0ad7-464d-b510-28c4d6256036",
   "metadata": {},
   "source": [
    "Neue Rechnung: $\\int_a^x \\int_a^y \\int_a^z \\int_a^t f(s) \\mathrm ds\\, \\mathrm dt\\, \\mathrm dz\\,\\mathrm dy = \\int_a^x \\frac 16 (x-y)^3 f(y) \\mathrm dy$"
   ]
  },
  {
   "cell_type": "code",
   "execution_count": 65,
   "id": "b50ae685-e928-474f-bc50-ccd021ecea54",
   "metadata": {},
   "outputs": [
    {
     "name": "stdout",
     "output_type": "stream",
     "text": [
      "-2*cos(1)/3\n",
      "-2*cos(1)/3\n",
      "True\n",
      "\n",
      "E - 19*exp(-1)/3\n",
      "E - 19*exp(-1)/3\n",
      "True\n",
      "\n"
     ]
    }
   ],
   "source": [
    "for f in [sp.sin(x), sp.exp(x)]:\n",
    "    left = nth_definite_antiderivative(3, f, -1, 1)\n",
    "    right = sp.integrate(f * sp.expand((1-x)**3/6),(x, -1, 1))\n",
    "    print(left)\n",
    "    print(right)\n",
    "    print(left == right)\n",
    "    print()"
   ]
  },
  {
   "cell_type": "code",
   "execution_count": 66,
   "id": "46c4ceb6-c0b1-4753-8abf-a5128e85cc1b",
   "metadata": {},
   "outputs": [
    {
     "name": "stdout",
     "output_type": "stream",
     "text": [
      "-4*cos(1)/3 + 2*sin(1)/3\n",
      "-4*cos(1)/3 + 2*sin(1)/3\n",
      "True\n",
      "\n",
      "E - 7*exp(-1)\n",
      "E - 7*exp(-1)\n",
      "True\n",
      "\n"
     ]
    }
   ],
   "source": [
    "for f in [sp.sin(x), sp.exp(x)]:\n",
    "    left = nth_definite_antiderivative(4, f, -1, 1)\n",
    "    right = sp.integrate(f * (1-x)**4/24,(x, -1, 1))\n",
    "    print(left)\n",
    "    print(right)\n",
    "    print(left == right)\n",
    "    print()"
   ]
  }
 ],
 "metadata": {
  "kernelspec": {
   "display_name": "Python 3 (ipykernel)",
   "language": "python",
   "name": "python3"
  },
  "language_info": {
   "codemirror_mode": {
    "name": "ipython",
    "version": 3
   },
   "file_extension": ".py",
   "mimetype": "text/x-python",
   "name": "python",
   "nbconvert_exporter": "python",
   "pygments_lexer": "ipython3",
   "version": "3.11.4"
  }
 },
 "nbformat": 4,
 "nbformat_minor": 5
}
