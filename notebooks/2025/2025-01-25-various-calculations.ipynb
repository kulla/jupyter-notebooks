{
 "cells": [
  {
   "cell_type": "markdown",
   "id": "a05d48b8-9c4c-46ba-a31d-6c9696ff2471",
   "metadata": {},
   "source": [
    "# Various calculations\n",
    "\n",
    "Copyright 2025 Stephan Kulla (\"Kulla\")\n",
    "\n",
    "Licensed under the Apache License, Version 2.0 (the \"Apache License\") and Creative Commons Attribution 4.0 International (the \"CC-BY License\"). You may choose either of these licenses to govern your use of this project.\n",
    "\n",
    "You may obtain a copy of the Apache License at:\n",
    "    http://www.apache.org/licenses/LICENSE-2.0\n",
    "\n",
    "You may obtain a copy of the CC-BY License at:\n",
    "    https://creativecommons.org/licenses/by/4.0/\n",
    "\n",
    "Unless required by applicable law or agreed to in writing, software and content distributed under the Apache License is distributed on an \"AS IS\" BASIS, WITHOUT WARRANTIES OR CONDITIONS OF ANY KIND, either express or implied. See the Apache License for the specific language governing permissions and limitations under the License.\n",
    "\n",
    "Under the CC-BY License, you are free to share and adapt the material provided you give appropriate credit, provide a link to the license, and indicate if changes were made. See the CC-BY License for full details.\n",
    "\n",
    "Third-Party Components and Licenses:\n",
    "This product also includes third-party components which are distributed under their respective licenses. Please refer to the NOTICE file for details."
   ]
  },
  {
   "cell_type": "markdown",
   "id": "87465842-f7b0-4d85-b232-26a91f9e0a6d",
   "metadata": {},
   "source": [
    "## Utility functions and imports"
   ]
  },
  {
   "cell_type": "code",
   "execution_count": 1,
   "id": "a406b2c0-b7c2-4055-b929-34c359f7b869",
   "metadata": {},
   "outputs": [],
   "source": [
    "%load_ext jupyter_ai_magics"
   ]
  },
  {
   "cell_type": "code",
   "execution_count": 1,
   "id": "5a74b898-aea4-4d1e-9b69-8a94537bdf22",
   "metadata": {},
   "outputs": [],
   "source": [
    "import string\n",
    "import sympy as sp\n",
    "\n",
    "from IPython.display import display, Markdown\n",
    "\n",
    "class LatexFormatter(string.Formatter):\n",
    "    def format_field(self, value, format_spec):\n",
    "        if format_spec == 'tex':\n",
    "            return sp.printing.latex(value)\n",
    "        if format_spec == '$' or format_spec == 'inline':\n",
    "            return \"$\" + sp.printing.latex(value) + \"$\"\n",
    "        elif format_spec == '$$' or format_spec == 'block':\n",
    "            return \"$$\" + sp.printing.latex(value) + \"$$\"\n",
    "        else:\n",
    "            return super().format_field(value, format_spec)\n",
    "\n",
    "def disp_md(template, **kwargs):\n",
    "    display(Markdown(LatexFormatter().format(template, **kwargs)))"
   ]
  },
  {
   "cell_type": "markdown",
   "id": "95ef97e9-4e76-4218-b3d5-bcbbf95aa618",
   "metadata": {},
   "source": [
    "# Rechnungen"
   ]
  },
  {
   "cell_type": "code",
   "execution_count": 5,
   "id": "58bedae7-7edc-401a-b6ca-84791b6aa90e",
   "metadata": {},
   "outputs": [
    {
     "data": {
      "text/latex": [
       "$\\displaystyle \\begin{cases} \\frac{1}{m + n + 1} & \\text{for}\\: m \\neq - n - 1 \\\\\\infty + i \\pi & \\text{otherwise} \\end{cases}$"
      ],
      "text/plain": [
       "Piecewise((1/(m + n + 1), Ne(m, -n - 1)), (oo + I*pi, True))"
      ]
     },
     "execution_count": 5,
     "metadata": {},
     "output_type": "execute_result"
    }
   ],
   "source": [
    "t, n, m = sp.symbols(\"t n m\")\n",
    "\n",
    "sp.integrate((1-t)**n * (1-t)**m, (t, 0, 1))"
   ]
  },
  {
   "cell_type": "code",
   "execution_count": 9,
   "id": "6ce6c7d6-d3ce-4031-b486-b9cbeb94d66e",
   "metadata": {},
   "outputs": [
    {
     "data": {
      "text/latex": [
       "$\\displaystyle - \\frac{a^{3} \\alpha}{3} + \\frac{a^{2} \\alpha b}{2} - \\frac{\\alpha b^{3}}{6}$"
      ],
      "text/plain": [
       "-a**3*alpha/3 + a**2*alpha*b/2 - alpha*b**3/6"
      ]
     },
     "execution_count": 9,
     "metadata": {},
     "output_type": "execute_result"
    }
   ],
   "source": [
    "alpha, x, a, b, t = sp.symbols(\"alpha x a b t\")\n",
    "\n",
    "sp.integrate(alpha * t * (t-b), (t, a, b))"
   ]
  }
 ],
 "metadata": {
  "kernelspec": {
   "display_name": "Python 3 (ipykernel)",
   "language": "python",
   "name": "python3"
  },
  "language_info": {
   "codemirror_mode": {
    "name": "ipython",
    "version": 3
   },
   "file_extension": ".py",
   "mimetype": "text/x-python",
   "name": "python",
   "nbconvert_exporter": "python",
   "pygments_lexer": "ipython3",
   "version": "3.11.4"
  }
 },
 "nbformat": 4,
 "nbformat_minor": 5
}
