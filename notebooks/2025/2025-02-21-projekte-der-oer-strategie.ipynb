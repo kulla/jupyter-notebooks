{
 "cells": [
  {
   "cell_type": "markdown",
   "id": "a05d48b8-9c4c-46ba-a31d-6c9696ff2471",
   "metadata": {},
   "source": [
    "# Projekte der OER-Strategie\n",
    "\n",
    "Copyright 2025 Stephan Kulla (\"Kulla\")\n",
    "\n",
    "Licensed under the Apache License, Version 2.0 (the \"Apache License\") and Creative Commons Attribution 4.0 International (the \"CC-BY License\"). You may choose either of these licenses to govern your use of this project.\n",
    "\n",
    "You may obtain a copy of the Apache License at:\n",
    "    http://www.apache.org/licenses/LICENSE-2.0\n",
    "\n",
    "You may obtain a copy of the CC-BY License at:\n",
    "    https://creativecommons.org/licenses/by/4.0/\n",
    "\n",
    "Unless required by applicable law or agreed to in writing, software and content distributed under the Apache License is distributed on an \"AS IS\" BASIS, WITHOUT WARRANTIES OR CONDITIONS OF ANY KIND, either express or implied. See the Apache License for the specific language governing permissions and limitations under the License.\n",
    "\n",
    "Under the CC-BY License, you are free to share and adapt the material provided you give appropriate credit, provide a link to the license, and indicate if changes were made. See the CC-BY License for full details.\n",
    "\n",
    "Third-Party Components and Licenses:\n",
    "This product also includes third-party components which are distributed under their respective licenses. Please refer to the NOTICE file for details."
   ]
  },
  {
   "cell_type": "markdown",
   "id": "87465842-f7b0-4d85-b232-26a91f9e0a6d",
   "metadata": {},
   "source": [
    "## Utility functions and imports"
   ]
  },
  {
   "cell_type": "code",
   "execution_count": 1,
   "id": "a406b2c0-b7c2-4055-b929-34c359f7b869",
   "metadata": {},
   "outputs": [],
   "source": [
    "%load_ext jupyter_ai_magics"
   ]
  },
  {
   "cell_type": "code",
   "execution_count": 2,
   "id": "5a74b898-aea4-4d1e-9b69-8a94537bdf22",
   "metadata": {},
   "outputs": [],
   "source": [
    "%load_ext autoreload"
   ]
  },
  {
   "cell_type": "code",
   "execution_count": 3,
   "id": "a814ef3d-f620-4377-9ba1-81da50fa06b7",
   "metadata": {},
   "outputs": [],
   "source": [
    "%autoreload 2"
   ]
  },
  {
   "cell_type": "markdown",
   "id": "690d3bfa-b532-4108-ac2d-a9e6c1a26fd4",
   "metadata": {},
   "source": [
    "## Fetch all projects"
   ]
  },
  {
   "cell_type": "code",
   "execution_count": 24,
   "id": "698366c0-0efe-4bfc-ab12-e0768f062ca4",
   "metadata": {},
   "outputs": [
    {
     "data": {
      "text/plain": [
       "{'id': 2716,\n",
       " 'date': '2024-12-11T10:48:33',\n",
       " 'slug': 'co-woerk-projektsteckbrief',\n",
       " 'link': 'https://www.oer-strategie.de/projects/co-woerk-projektsteckbrief/',\n",
       " 'title': {'rendered': 'Community zum Wissenstransfer OER: Netzwerk von Bildungsakteur:innen'},\n",
       " 'content': {'rendered': '\\n<figure class=\"wp-block-table\"><table><tbody><tr><td><strong>Akronym</strong></td><td>CO-WOERK</td></tr><tr><td><strong>Projekttitel</strong></td><td>Community zum Wissenstransfer OER: Netzwerk von Bildungsakteur:innen</td></tr><tr><td><strong>Förderrichtlinie</strong></td><td>OE_COM</td></tr><tr><td><strong>Laufzeit</strong></td><td>01.06.2024 – 31.05.2027</td></tr><tr><td><strong>Status</strong></td><td>laufend</td></tr><tr><td><strong>Ansprechpartner</strong></td><td>Europa-Universität Viadrina Frankfurt (Oder)<br>Dr. Christin Barbarino<br>Hochschule Neubrandenburg &#8211; University of Applied Sciences<br>Prof. Dr. Matthias Müller <br>E-Mail:<br>barbarino[ät]europa-uni.de<br>mueller[ät]hs-nb.de</td></tr><tr><td><strong>Webseite: </strong></td><td><a href=\"https://www.co-woerk.de\" target=\"_blank\" rel=\"noreferrer noopener\">https://www.co-woerk.de</a> </td></tr><tr><td><strong>Förderkennzeichen</strong></td><td>01PO23013</td></tr><tr><td><strong>Projektpartner</strong></td><td>Europa-Universität Viadrina Frankfurt (Oder)<br>Brandenburgische Technische Universität Cottbus-Senftenberg &#8211; Informations-, Kommunikations-, und Medienzentrum (IKMZ)<br>Universität Potsdam &#8211; Zentrum für Qualitätsentwicklung in Lehre und Studium (ZfQ)<br>Hochschule Neubrandenburg &#8211; University of Applied Sciences &#8211; Fachbereich Soziale Arbeit, Bildung und Erziehung<br>Universität Rostock &#8211; Institut für Wirtschaftspädagogik – Institut für Berufspädagogik</td></tr><tr><td><strong>Zielgruppe</strong></td><td>Hochschulen, Hochschullehrende, Studierende, Berufliche Schulen, Lehrkräfte, Schülerinnen und Schüler</td></tr><tr><td><strong>Projektschwerpunkte</strong></td><td>Hochschullehre, Berufliche Bildung, Community-Erweiterung, Kompetenzaufbau, Strukturentwicklung</td></tr><tr><td><strong>Fördersumme</strong></td><td>2.725.774,41 €</td></tr><tr><td><strong>Kurzbeschreibung</strong></td><td>Das zentrale Ziel des Projekts &#8222;Community zum Wissenstransfer OER: Netzwerk von Bildungsakteur:innen&#8220; (CO-WOERK) ist die Etablierung einer bundesländerübergreifenden OER-Community für die Bereiche Hochschullehre und berufliche Bildung. Dafür adressiert das Projekt den systematischen Ausbau der OER-Kompetenzen und des OER-Bewusstseins von Lehrenden an Hochschulen und in der beruflichen Bildung durch den Zusammenschluss der OER-Akteure und Akteurinnen in Brandenburg und Mecklenburg-Vorpommern in einer moderierten Arbeitsgemeinschaft und durch zielgerichtete Weiterbildungen. Auf diese Weise sollen bereits vorhandene, regionale OER-Netzwerke gestärkt werden und neue Netzwerke integriert werden. Im Projektverlauf soll das Netzwerk auf das gesamte Bundesgebiet ausgeweitet werden, um wechselseitig Erfahrungen auszutauschen.<br><br>Um dieses Ziel zu erreichen, werden die bestehenden Communities und ihre Organisationen gestärkt, Netzwerkarbeit betrieben und die Organisationen ausgeweitet sowie neue Akteure und Akteurinnen für die Community gewonnen. Dieser Prozess wird durch die Entwicklung eines OER-Ökosystems aus Unterstützungs- und Beratungsleistungen sowie eines Anreizsystems und Hilfe bei der Qualitätssicherung und -entwicklung befördert.</td></tr></tbody></table></figure>\\n',\n",
       "  'protected': False},\n",
       " 'meta': {'custom_teaser_text': '',\n",
       "  'acronym': 'CO-WOERK',\n",
       "  'coordination': 'Europa-Universität Viadrina Frankfurt (Oder), Hochschule Neubrandenburg - University of Applied Sciences',\n",
       "  'start_date': '2024-06-01',\n",
       "  'end_date': '2027-05-31',\n",
       "  'funding_amount': '5'},\n",
       " 'project_focus_areas': [51, 52, 53, 54],\n",
       " 'addressees': [45, 46, 47],\n",
       " 'federate_states': [41, 73],\n",
       " 'legal_persons': [69],\n",
       " 'funding_guidelines': [72],\n",
       " 'project_status': 'ongoing'}"
      ]
     },
     "execution_count": 24,
     "metadata": {},
     "output_type": "execute_result"
    }
   ],
   "source": [
    "import requests\n",
    "\n",
    "url = \"https://www.oer-strategie.de/wp-json/wp/v2/projects\"\n",
    "\n",
    "# Query parameters\n",
    "params = {\n",
    "    \"_fields\": \"id,date,slug,link,title,meta,project_status,project_focus_areas,federate_states,addressees,legal_persons,funding_guidelines,content\",\n",
    "    \"per_page\": \"100\",\n",
    "    \"orderby\": \"id\",\n",
    "    \"order\": \"asc\",\n",
    "    \"page\": \"1\"\n",
    "}\n",
    "\n",
    "# Headers\n",
    "headers = {\n",
    "    \"User-Agent\": \"Mozilla/5.0 (X11; Ubuntu; Linux x86_64; rv:135.0) Gecko/20100101 Firefox/135.0\",\n",
    "    \"Accept\": \"*/*\",\n",
    "    \"Accept-Language\": \"de-DE,en-US;q=0.7,en;q=0.3\",\n",
    "    \"Accept-Encoding\": \"gzip, deflate, br, zstd\",\n",
    "    \"Referer\": \"https://www.oer-strategie.de/foerdern/gefoerderte-projekte/\",\n",
    "    \"DNT\": \"1\",\n",
    "    \"Connection\": \"keep-alive\",\n",
    "    \"Cookie\": \"matomooptin=0\",\n",
    "    \"Sec-Fetch-Dest\": \"empty\",\n",
    "    \"Sec-Fetch-Mode\": \"cors\",\n",
    "    \"Sec-Fetch-Site\": \"same-origin\",\n",
    "    \"Priority\": \"u=4\",\n",
    "    \"Pragma\": \"no-cache\",\n",
    "    \"Cache-Control\": \"no-cache\",\n",
    "    \"TE\": \"trailers\"\n",
    "}\n",
    "\n",
    "# Make the GET request\n",
    "response = requests.get(url, headers=headers, params=params)\n",
    "\n",
    "# Print the response text\n",
    "projects_json = response.json()\n",
    "projects_json[0]"
   ]
  },
  {
   "cell_type": "code",
   "execution_count": 25,
   "id": "4a2b839c-d359-4851-b3c0-35acca843aa5",
   "metadata": {},
   "outputs": [
    {
     "data": {
      "text/plain": [
       "{'Titel': 'Community zum Wissenstransfer OER: Netzwerk von Bildungsakteur:innen',\n",
       " 'Link': 'https://www.oer-strategie.de/projects/co-woerk-projektsteckbrief/',\n",
       " 'Akronym': 'CO-WOERK',\n",
       " 'Startdatum': '2024-06-01',\n",
       " 'Enddatum': '2027-05-31',\n",
       " 'Projektstatus': 'ongoing'}"
      ]
     },
     "execution_count": 25,
     "metadata": {},
     "output_type": "execute_result"
    }
   ],
   "source": [
    "def get_project_info(raw_data):\n",
    "    metadata = raw_data[\"meta\"]\n",
    "    \n",
    "    return {\n",
    "        \"Titel\": raw_data[\"title\"][\"rendered\"],\n",
    "        \"Link\": raw_data[\"link\"],\n",
    "        \"Akronym\": metadata[\"acronym\"],\n",
    "        \"Startdatum\": metadata[\"start_date\"],\n",
    "        \"Enddatum\": metadata[\"end_date\"],\n",
    "        \"Projektstatus\": raw_data[\"project_status\"]\n",
    "    }\n",
    "\n",
    "projects = [get_project_info(raw_data) for raw_data in projects_json]\n",
    "projects[0]"
   ]
  },
  {
   "cell_type": "markdown",
   "id": "b479dee2-2a22-4fcf-b789-f4736ae09fa2",
   "metadata": {},
   "source": [
    "## Add information from project site"
   ]
  },
  {
   "cell_type": "code",
   "execution_count": 27,
   "id": "381544bf-40f2-440f-b206-ab565d8e16d1",
   "metadata": {},
   "outputs": [
    {
     "data": {
      "text/plain": [
       "{'Titel': 'Community zum Wissenstransfer OER: Netzwerk von Bildungsakteur:innen',\n",
       " 'Link': 'https://www.oer-strategie.de/projects/co-woerk-projektsteckbrief/',\n",
       " 'Akronym': 'CO-WOERK',\n",
       " 'Startdatum': '2024-06-01',\n",
       " 'Enddatum': '2027-05-31',\n",
       " 'Projektstatus': 'ongoing',\n",
       " 'Förderkennzeichen': '01PO23013',\n",
       " 'Fördersumme': 2725774.41,\n",
       " 'Förderrichtlinie': 'OE_COM',\n",
       " 'Webseite': 'https://www.co-woerk.de'}"
      ]
     },
     "execution_count": 27,
     "metadata": {},
     "output_type": "execute_result"
    }
   ],
   "source": [
    "import locale\n",
    "from bs4 import BeautifulSoup\n",
    "\n",
    "# Set the locale to German (Germany)\n",
    "locale.setlocale(locale.LC_NUMERIC, 'de_DE.UTF-8')\n",
    "\n",
    "def with_project_site_information(project):\n",
    "    site_html_text = requests.get(project[\"Link\"], headers=headers).text\n",
    "    site_html = BeautifulSoup(site_html_text, \"html.parser\")\n",
    "\n",
    "    data = {\n",
    "        \"Webseite: \": None,\n",
    "        \"Förderkennzeichen\": None,\n",
    "        \"Fördersumme\": None,\n",
    "        \"Förderrichtlinie\": None\n",
    "    }\n",
    "    \n",
    "    # Extracting specific fields\n",
    "    for field in data.keys():\n",
    "        element = site_html.find(string=field)\n",
    "        if element:\n",
    "            parent = element.find_parent().find_parent()\n",
    "            if parent:\n",
    "                next_sibling = parent.find_next_sibling()\n",
    "                if next_sibling:\n",
    "                    data[field] = next_sibling.get_text(strip=True)\n",
    "\n",
    "    data[\"Webseite\"] = data[\"Webseite: \"]\n",
    "    del data[\"Webseite: \"]\n",
    "\n",
    "    data[\"Fördersumme\"] = locale.atof(data[\"Fördersumme\"].rstrip(\" €\"))\n",
    "\n",
    "    return project | data\n",
    "\n",
    "projects = [with_project_site_information(project) for project in projects]\n",
    "projects[0]"
   ]
  },
  {
   "cell_type": "markdown",
   "id": "a7dac1bd-ccb0-4f89-9aa9-4c1421a69875",
   "metadata": {},
   "source": [
    "## Output as CSV"
   ]
  },
  {
   "cell_type": "code",
   "execution_count": 28,
   "id": "772d5908-5301-4df9-8d82-c4ad6fd8ea15",
   "metadata": {},
   "outputs": [
    {
     "name": "stdout",
     "output_type": "stream",
     "text": [
      "Data has been successfully written to /tmp/oer_strategie_data.csv\n"
     ]
    }
   ],
   "source": [
    "import csv\n",
    "\n",
    "# Specify the CSV file name\n",
    "csv_file = '/tmp/oer_strategie_data.csv'\n",
    "\n",
    "# Open the CSV file in write mode\n",
    "with open(csv_file, mode='w', newline='') as file:\n",
    "    # Create a CSV DictWriter object\n",
    "    writer = csv.DictWriter(file, fieldnames=projects[0].keys())\n",
    "\n",
    "    # Write the header\n",
    "    writer.writeheader()\n",
    "\n",
    "    # Write the data\n",
    "    for row in projects:\n",
    "        writer.writerow(row)\n",
    "\n",
    "print(f\"Data has been successfully written to {csv_file}\")"
   ]
  }
 ],
 "metadata": {
  "kernelspec": {
   "display_name": "Python 3 (ipykernel)",
   "language": "python",
   "name": "python3"
  },
  "language_info": {
   "codemirror_mode": {
    "name": "ipython",
    "version": 3
   },
   "file_extension": ".py",
   "mimetype": "text/x-python",
   "name": "python",
   "nbconvert_exporter": "python",
   "pygments_lexer": "ipython3",
   "version": "3.11.4"
  }
 },
 "nbformat": 4,
 "nbformat_minor": 5
}
